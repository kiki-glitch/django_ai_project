{
 "cells": [
  {
   "cell_type": "code",
   "execution_count": 1,
   "id": "1f600f68",
   "metadata": {},
   "outputs": [],
   "source": [
    "import setup\n",
    "setup.init()"
   ]
  },
  {
   "cell_type": "code",
   "execution_count": 2,
   "id": "4dc15270",
   "metadata": {},
   "outputs": [],
   "source": [
    "from ai.llms import get_groq_model"
   ]
  },
  {
   "cell_type": "code",
   "execution_count": 3,
   "id": "6178da04",
   "metadata": {},
   "outputs": [],
   "source": [
    "config = {\n",
    "    \"user_id\":3\n",
    "}"
   ]
  },
  {
   "cell_type": "code",
   "execution_count": 4,
   "id": "921152de",
   "metadata": {},
   "outputs": [],
   "source": [
    "model = get_groq_model()"
   ]
  },
  {
   "cell_type": "code",
   "execution_count": 5,
   "id": "86a457c8",
   "metadata": {},
   "outputs": [
    {
     "name": "stdout",
     "output_type": "stream",
     "text": [
      "content=\"I am LLaMA, an AI assistant developed by Meta AI that can understand and respond to human input in a conversational manner. I'm not a human, but a computer program designed to simulate conversation, answer questions, and even generate text based on the input I receive.\\n\\nI'm a large language model, which means I've been trained on a massive dataset of text from various sources, including books, articles, and websites. This training enables me to understand and respond to a wide range of topics and questions.\\n\\nI'm here to help you with any questions or topics you'd like to discuss. I can provide information, answer questions, and even engage in conversation. I'm constantly learning and improving, so please bear with me if I make any mistakes.\" additional_kwargs={} response_metadata={'token_usage': {'completion_tokens': 154, 'prompt_tokens': 14, 'total_tokens': 168, 'completion_time': 0.105385608, 'prompt_time': 0.002159221, 'queue_time': 0.142671211, 'total_time': 0.107544829}, 'model_name': 'llama3-8b-8192', 'system_fingerprint': 'fp_5b339000ab', 'service_tier': 'on_demand', 'finish_reason': 'stop', 'logprobs': None} id='run--4c3035af-4c1d-47c5-b43c-e7821889004c-0' usage_metadata={'input_tokens': 14, 'output_tokens': 154, 'total_tokens': 168}\n"
     ]
    }
   ],
   "source": [
    "response = model.invoke(\"Who are you?\")  # ✅ works\n",
    "print(response)"
   ]
  }
 ],
 "metadata": {
  "kernelspec": {
   "display_name": "ai_agent",
   "language": "python",
   "name": "python3"
  },
  "language_info": {
   "codemirror_mode": {
    "name": "ipython",
    "version": 3
   },
   "file_extension": ".py",
   "mimetype": "text/x-python",
   "name": "python",
   "nbconvert_exporter": "python",
   "pygments_lexer": "ipython3",
   "version": "3.12.6"
  }
 },
 "nbformat": 4,
 "nbformat_minor": 5
}
