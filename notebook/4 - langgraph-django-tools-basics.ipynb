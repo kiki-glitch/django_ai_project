{
 "cells": [
  {
   "cell_type": "code",
   "execution_count": 1,
   "id": "b4882e88",
   "metadata": {},
   "outputs": [],
   "source": [
    "import setup\n",
    "setup.init()"
   ]
  },
  {
   "cell_type": "code",
   "execution_count": 2,
   "metadata": {},
   "outputs": [],
   "source": [
    "from ai.tools import list_documents, get_document\n"
   ]
  },
  {
   "cell_type": "code",
   "execution_count": 3,
   "id": "3581fde0",
   "metadata": {},
   "outputs": [],
   "source": [
    "config = {\n",
    "    \"user_id\":3\n",
    "}"
   ]
  },
  {
   "cell_type": "code",
   "execution_count": 4,
   "metadata": {},
   "outputs": [
    {
     "name": "stdout",
     "output_type": "stream",
     "text": [
      "{'tags': [], 'metadata': {'user_id': 3}, 'callbacks': None, 'recursion_limit': 25, 'configurable': {'user_id': 3}}\n"
     ]
    },
    {
     "data": {
      "text/plain": [
       "[{'id': 3, 'title': 'Big Apple'}, {'id': 4, 'title': 'Title'}]"
      ]
     },
     "execution_count": 4,
     "metadata": {},
     "output_type": "execute_result"
    }
   ],
   "source": [
    "list_documents.invoke(None, config)"
   ]
  },
  {
   "cell_type": "code",
   "execution_count": 5,
   "id": "27477f32",
   "metadata": {},
   "outputs": [
    {
     "data": {
      "text/plain": [
       "{'id': 3, 'title': 'Big Apple'}"
      ]
     },
     "execution_count": 5,
     "metadata": {},
     "output_type": "execute_result"
    }
   ],
   "source": [
    "get_document.invoke({\"document_id\":3}, config)"
   ]
  }
 ],
 "metadata": {
  "kernelspec": {
   "display_name": "ai_agent",
   "language": "python",
   "name": "python3"
  },
  "language_info": {
   "codemirror_mode": {
    "name": "ipython",
    "version": 3
   },
   "file_extension": ".py",
   "mimetype": "text/x-python",
   "name": "python",
   "nbconvert_exporter": "python",
   "pygments_lexer": "ipython3",
   "version": "3.12.6"
  }
 },
 "nbformat": 4,
 "nbformat_minor": 5
}
