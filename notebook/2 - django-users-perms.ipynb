{
 "cells": [
  {
   "cell_type": "code",
   "execution_count": 11,
   "id": "8f3f99b7",
   "metadata": {},
   "outputs": [],
   "source": [
    "import setup #notebooks/setup.py\n",
    "\n",
    "setup.init()"
   ]
  },
  {
   "cell_type": "code",
   "execution_count": 12,
   "id": "911165fd",
   "metadata": {},
   "outputs": [
    {
     "data": {
      "text/plain": [
       "<QuerySet [<User: admin>, <User: staff>]>"
      ]
     },
     "execution_count": 12,
     "metadata": {},
     "output_type": "execute_result"
    }
   ],
   "source": [
    "from django.contrib.auth import get_user_model\n",
    "\n",
    "User = get_user_model()\n",
    "\n",
    "User.objects.all()  "
   ]
  },
  {
   "cell_type": "code",
   "execution_count": 7,
   "id": "d98dc9f1",
   "metadata": {},
   "outputs": [
    {
     "data": {
      "text/plain": [
       "<User: staff>"
      ]
     },
     "execution_count": 7,
     "metadata": {},
     "output_type": "execute_result"
    }
   ],
   "source": [
    "user_obj = User(\n",
    "    username=\"staff\"\n",
    ")\n",
    "user_obj"
   ]
  },
  {
   "cell_type": "code",
   "execution_count": 14,
   "id": "d31d063b",
   "metadata": {},
   "outputs": [
    {
     "data": {
      "text/plain": [
       "<User: staff>"
      ]
     },
     "execution_count": 14,
     "metadata": {},
     "output_type": "execute_result"
    }
   ],
   "source": [
    "user_obj = User.objects.last()\n",
    "user_obj"
   ]
  },
  {
   "cell_type": "code",
   "execution_count": null,
   "id": "75ffcc51",
   "metadata": {},
   "outputs": [
    {
     "data": {
      "text/plain": [
       "<Document:  Hello World>"
      ]
     },
     "execution_count": 8,
     "metadata": {},
     "output_type": "execute_result"
    }
   ],
   "source": [
    "from documents.models import Document\n",
    "\n",
    "doc_obj = Document(\n",
    "    owner = user_obj,\n",
    "    title = \"Hello World\" \n",
    ")\n",
    "doc_obj"
   ]
  },
  {
   "cell_type": "code",
   "execution_count": null,
   "id": "d9eea24b",
   "metadata": {},
   "outputs": [
    {
     "ename": "ValueError",
     "evalue": "save() prohibited to prevent data loss due to unsaved related object 'owner'.",
     "output_type": "error",
     "traceback": [
      "\u001b[31m---------------------------------------------------------------------------\u001b[39m",
      "\u001b[31mValueError\u001b[39m                                Traceback (most recent call last)",
      "\u001b[36mCell\u001b[39m\u001b[36m \u001b[39m\u001b[32mIn[9]\u001b[39m\u001b[32m, line 1\u001b[39m\n\u001b[32m----> \u001b[39m\u001b[32m1\u001b[39m \u001b[43mdoc_obj\u001b[49m\u001b[43m.\u001b[49m\u001b[43msave\u001b[49m\u001b[43m(\u001b[49m\u001b[43m)\u001b[49m\n",
      "\u001b[36mFile \u001b[39m\u001b[32mc:\\xampp\\htdocs\\Ai-agent-Project\\src\\documents\\models.py:27\u001b[39m, in \u001b[36mDocument.save\u001b[39m\u001b[34m(self, *args, **kwargs)\u001b[39m\n\u001b[32m     25\u001b[39m \u001b[38;5;28;01melse\u001b[39;00m:\n\u001b[32m     26\u001b[39m     \u001b[38;5;28mself\u001b[39m.active_at=\u001b[38;5;28;01mNone\u001b[39;00m\n\u001b[32m---> \u001b[39m\u001b[32m27\u001b[39m \u001b[38;5;28;43msuper\u001b[39;49m\u001b[43m(\u001b[49m\u001b[43m)\u001b[49m\u001b[43m.\u001b[49m\u001b[43msave\u001b[49m\u001b[43m(\u001b[49m\u001b[43m*\u001b[49m\u001b[43margs\u001b[49m\u001b[43m,\u001b[49m\u001b[43m \u001b[49m\u001b[43m*\u001b[49m\u001b[43m*\u001b[49m\u001b[43mkwargs\u001b[49m\u001b[43m)\u001b[49m\n",
      "\u001b[36mFile \u001b[39m\u001b[32mc:\\Users\\USER\\Envs\\ai_agent\\Lib\\site-packages\\django\\db\\models\\base.py:857\u001b[39m, in \u001b[36mModel.save\u001b[39m\u001b[34m(self, force_insert, force_update, using, update_fields, *args)\u001b[39m\n\u001b[32m    847\u001b[39m \u001b[38;5;28;01mif\u001b[39;00m args:\n\u001b[32m    848\u001b[39m     force_insert, force_update, using, update_fields = \u001b[38;5;28mself\u001b[39m._parse_save_params(\n\u001b[32m    849\u001b[39m         *args,\n\u001b[32m    850\u001b[39m         method_name=\u001b[33m\"\u001b[39m\u001b[33msave\u001b[39m\u001b[33m\"\u001b[39m,\n\u001b[32m   (...)\u001b[39m\u001b[32m    854\u001b[39m         update_fields=update_fields,\n\u001b[32m    855\u001b[39m     )\n\u001b[32m--> \u001b[39m\u001b[32m857\u001b[39m \u001b[38;5;28;43mself\u001b[39;49m\u001b[43m.\u001b[49m\u001b[43m_prepare_related_fields_for_save\u001b[49m\u001b[43m(\u001b[49m\u001b[43moperation_name\u001b[49m\u001b[43m=\u001b[49m\u001b[33;43m\"\u001b[39;49m\u001b[33;43msave\u001b[39;49m\u001b[33;43m\"\u001b[39;49m\u001b[43m)\u001b[49m\n\u001b[32m    859\u001b[39m using = using \u001b[38;5;129;01mor\u001b[39;00m router.db_for_write(\u001b[38;5;28mself\u001b[39m.\u001b[34m__class__\u001b[39m, instance=\u001b[38;5;28mself\u001b[39m)\n\u001b[32m    860\u001b[39m \u001b[38;5;28;01mif\u001b[39;00m force_insert \u001b[38;5;129;01mand\u001b[39;00m (force_update \u001b[38;5;129;01mor\u001b[39;00m update_fields):\n",
      "\u001b[36mFile \u001b[39m\u001b[32mc:\\Users\\USER\\Envs\\ai_agent\\Lib\\site-packages\\django\\db\\models\\base.py:1242\u001b[39m, in \u001b[36mModel._prepare_related_fields_for_save\u001b[39m\u001b[34m(self, operation_name, fields)\u001b[39m\n\u001b[32m   1240\u001b[39m     \u001b[38;5;28;01mif\u001b[39;00m \u001b[38;5;129;01mnot\u001b[39;00m field.remote_field.multiple:\n\u001b[32m   1241\u001b[39m         field.remote_field.delete_cached_value(obj)\n\u001b[32m-> \u001b[39m\u001b[32m1242\u001b[39m     \u001b[38;5;28;01mraise\u001b[39;00m \u001b[38;5;167;01mValueError\u001b[39;00m(\n\u001b[32m   1243\u001b[39m         \u001b[33m\"\u001b[39m\u001b[38;5;132;01m%s\u001b[39;00m\u001b[33m() prohibited to prevent data loss due to unsaved \u001b[39m\u001b[33m\"\u001b[39m\n\u001b[32m   1244\u001b[39m         \u001b[33m\"\u001b[39m\u001b[33mrelated object \u001b[39m\u001b[33m'\u001b[39m\u001b[38;5;132;01m%s\u001b[39;00m\u001b[33m'\u001b[39m\u001b[33m.\u001b[39m\u001b[33m\"\u001b[39m % (operation_name, field.name)\n\u001b[32m   1245\u001b[39m     )\n\u001b[32m   1246\u001b[39m \u001b[38;5;28;01melif\u001b[39;00m \u001b[38;5;28mgetattr\u001b[39m(\u001b[38;5;28mself\u001b[39m, field.attname) \u001b[38;5;129;01min\u001b[39;00m field.empty_values:\n\u001b[32m   1247\u001b[39m     \u001b[38;5;66;03m# Set related object if it has been saved after an\u001b[39;00m\n\u001b[32m   1248\u001b[39m     \u001b[38;5;66;03m# assignment.\u001b[39;00m\n\u001b[32m   1249\u001b[39m     \u001b[38;5;28msetattr\u001b[39m(\u001b[38;5;28mself\u001b[39m, field.name, obj)\n",
      "\u001b[31mValueError\u001b[39m: save() prohibited to prevent data loss due to unsaved related object 'owner'."
     ]
    }
   ],
   "source": [
    "doc_obj.save()"
   ]
  },
  {
   "cell_type": "code",
   "execution_count": null,
   "id": "ce2f69c3",
   "metadata": {},
   "outputs": [],
   "source": [
    "doc_obj"
   ]
  },
  {
   "cell_type": "code",
   "execution_count": 15,
   "id": "0c10099d",
   "metadata": {},
   "outputs": [
    {
     "data": {
      "text/plain": [
       "<Document:  Title>"
      ]
     },
     "execution_count": 15,
     "metadata": {},
     "output_type": "execute_result"
    }
   ],
   "source": [
    "Document.objects.create(owner=user_obj)"
   ]
  }
 ],
 "metadata": {
  "kernelspec": {
   "display_name": "C:\\Users\\USER\\Envs\\ai_agent",
   "language": "python",
   "name": "python3"
  },
  "language_info": {
   "codemirror_mode": {
    "name": "ipython",
    "version": 3
   },
   "file_extension": ".py",
   "mimetype": "text/x-python",
   "name": "python",
   "nbconvert_exporter": "python",
   "pygments_lexer": "ipython3",
   "version": "3.12.6"
  }
 },
 "nbformat": 4,
 "nbformat_minor": 5
}
