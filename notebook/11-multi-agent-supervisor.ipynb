{
 "cells": [
  {
   "cell_type": "code",
   "execution_count": null,
   "id": "a85bcd10",
   "metadata": {},
   "outputs": [],
   "source": [
    "import setup\n",
    "setup.init()"
   ]
  },
  {
   "cell_type": "code",
   "execution_count": null,
   "id": "6f2536d5",
   "metadata": {},
   "outputs": [],
   "source": [
    "from ai.supervisors import get_supervisor"
   ]
  },
  {
   "cell_type": "code",
   "execution_count": null,
   "id": "7e20ad4a",
   "metadata": {},
   "outputs": [],
   "source": [
    "from langgraph.checkpoint.memory import InMemorySaver \n",
    "\n",
    "checkpointer = InMemorySaver()"
   ]
  },
  {
   "cell_type": "code",
   "execution_count": null,
   "id": "03086ec8",
   "metadata": {},
   "outputs": [],
   "source": [
    "import uuid\n",
    "config = {\"configurable\":{\"user_id\":\"3\", \"thread_id\":uuid.uuid4()}}\n",
    "supervisor = get_supervisor(config=config, checkpointer=checkpointer)"
   ]
  },
  {
   "cell_type": "code",
   "execution_count": null,
   "id": "8d07df39",
   "metadata": {},
   "outputs": [],
   "source": [
    "response = supervisor.invoke({\"messages\":\n",
    "              [\n",
    "                  {\"role\": \"user\", \"content\":\"what are my most recent added documents?\"}\n",
    "              ]\n",
    "            },\n",
    "            config\n",
    "        )\n",
    "response.get(\"invocations\", [])"
   ]
  },
  {
   "cell_type": "code",
   "execution_count": null,
   "id": "d029ed00",
   "metadata": {},
   "outputs": [],
   "source": [
    "print(\"Multi-agent result:\", response['messages'][-1].content)\n",
    "print(\"Invocations:\", response.get(\"invocations\", []))"
   ]
  },
  {
   "cell_type": "code",
   "execution_count": null,
   "id": "71e15b95",
   "metadata": {},
   "outputs": [],
   "source": [
    "response = supervisor.invoke(\n",
    "    {\"messages\": \n",
    "        [\n",
    "            {\"role\": \"user\", \"content\": \"Change one of the documents with a duplicate title from a movie related to Mission Impossible from May of 2025\"}\n",
    "        ]\n",
    "    },\n",
    "    config\n",
    ")\n",
    "\n",
    "print(\"Multi-agent result:\", response['messages'][-1].content)\n",
    "print(\"Invocations:\", response.get(\"invocations\", []))"
   ]
  },
  {
   "cell_type": "code",
   "execution_count": null,
   "id": "55c42ad3",
   "metadata": {},
   "outputs": [],
   "source": [
    "response = supervisor.invoke(\n",
    "    {\"messages\": \n",
    "        [\n",
    "            {\"role\": \"user\", \"content\": \"Mission Impossible: Dead Reckoning Part Two as actually named the Final Reckoning not Dead Reckoning Part two\"}\n",
    "        ]\n",
    "    },\n",
    "    config\n",
    ")\n",
    "print(\"Multi-agent result:\", response['messages'][-1].content)\n",
    "print(\"Invocations:\", response.get(\"invocations\", []))"
   ]
  },
  {
   "cell_type": "code",
   "execution_count": null,
   "id": "496f6c72",
   "metadata": {},
   "outputs": [],
   "source": [
    "response = supervisor.invoke({\n",
    "    \"messages\": [\n",
    "        {\"role\": \"user\", \"content\": \"Please create the document with the summary of movie Minions'\"}\n",
    "    ]\n",
    "}, config)\n",
    "print(\"Multi-agent result:\", response['messages'][-1].content)\n",
    "print(\"Invocations:\", response.get(\"invocations\", []))"
   ]
  }
 ],
 "metadata": {
  "kernelspec": {
   "display_name": "ai_agent",
   "language": "python",
   "name": "python3"
  },
  "language_info": {
   "codemirror_mode": {
    "name": "ipython",
    "version": 3
   },
   "file_extension": ".py",
   "mimetype": "text/x-python",
   "name": "python",
   "nbconvert_exporter": "python",
   "pygments_lexer": "ipython3",
   "version": "3.12.6"
  }
 },
 "nbformat": 4,
 "nbformat_minor": 5
}
