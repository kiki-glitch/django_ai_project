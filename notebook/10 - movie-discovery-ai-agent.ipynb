{
 "cells": [
  {
   "cell_type": "code",
   "execution_count": 1,
   "id": "a85bcd10",
   "metadata": {},
   "outputs": [],
   "source": [
    "import setup\n",
    "setup.init()"
   ]
  },
  {
   "cell_type": "code",
   "execution_count": 2,
   "id": "6f2536d5",
   "metadata": {},
   "outputs": [
    {
     "name": "stdout",
     "output_type": "stream",
     "text": [
      "{\"success\":true}\n"
     ]
    }
   ],
   "source": [
    "from langgraph.checkpoint.memory import InMemorySaver \n",
    "from ai.agents import get_movie_discovery_agent\n"
   ]
  },
  {
   "cell_type": "code",
   "execution_count": 3,
   "id": "03086ec8",
   "metadata": {},
   "outputs": [],
   "source": [
    "import uuid\n",
    "config = {\n",
    "    \"configurable\": {\n",
    "        \"user_id\": \"3\",\n",
    "        \"thread_id\": str(uuid.uuid4())\n",
    "    }\n",
    "}\n",
    "checkpointer = InMemorySaver()\n",
    "agent = get_movie_discovery_agent(config=config,checkpointer=checkpointer)"
   ]
  },
  {
   "cell_type": "code",
   "execution_count": 4,
   "id": "7d597cde",
   "metadata": {},
   "outputs": [
    {
     "name": "stdout",
     "output_type": "stream",
     "text": [
      "Searching movies with user 3\n"
     ]
    }
   ],
   "source": [
    "response = agent.invoke(\n",
    "    {\"messages\": \n",
    "        [\n",
    "            {\"role\": \"user\", \"content\": \"Tell me about the first lord of the rings movie\"}\n",
    "        ]\n",
    "    },\n",
    "    config\n",
    ")\n"
   ]
  },
  {
   "cell_type": "code",
   "execution_count": 5,
   "id": "d029ed00",
   "metadata": {},
   "outputs": [
    {
     "data": {
      "text/plain": [
       "ToolMessage(content='[{\"adult\": false, \"backdrop_path\": \"/a0lfia8tk8ifkrve0Tn8wkISUvs.jpg\", \"genre_ids\": [12, 14, 28], \"id\": 120, \"original_language\": \"en\", \"original_title\": \"The Lord of the Rings: The Fellowship of the Ring\", \"overview\": \"Young hobbit Frodo Baggins, after inheriting a mysterious ring from his uncle Bilbo, must leave his home in order to keep it from falling into the hands of its evil creator. Along the way, a fellowship is formed to protect the ringbearer and make sure that the ring arrives at its final destination: Mt. Doom, the only place where it can be destroyed.\", \"popularity\": 25.7042, \"poster_path\": \"/6oom5QYQ2yQTMJIbnvbkBL9cHo6.jpg\", \"release_date\": \"2001-12-18\", \"title\": \"The Lord of the Rings: The Fellowship of the Ring\", \"video\": false, \"vote_average\": 8.4, \"vote_count\": 26304}, {\"adult\": false, \"backdrop_path\": \"/12rwHElCwSXRpLBtDS2Ef5zpol8.jpg\", \"genre_ids\": [99], \"id\": 622231, \"original_language\": \"en\", \"original_title\": \"The Making of The Fellowship of the Ring\", \"overview\": \"A behind-the-scenes documentary on the making of \\\\\"The Lord of the Rings: The Fellowship of the Ring.\\\\\" Created by filmmaker Costa Botes (personally selected by Peter Jackson), this documentary uses raw footage to reveal the inside story on how the greatest adventure film franchise was born.\", \"popularity\": 0.5322, \"poster_path\": \"/9vdxS5MUDzD0Aoi2SrAEY3VxQ8J.jpg\", \"release_date\": \"2002-04-01\", \"title\": \"The Making of The Fellowship of the Ring\", \"video\": false, \"vote_average\": 8.8, \"vote_count\": 12}, {\"adult\": false, \"backdrop_path\": \"/u3ri8VyMosXJr0tMK5MxZMyWrMN.jpg\", \"genre_ids\": [99], \"id\": 192349, \"original_language\": \"en\", \"original_title\": \"Beyond the Movie: The Fellowship of the Ring\", \"overview\": \"A documentary about the influences on Tolkien, covering in brief his childhood and how he detested the onslaught of industry through the idyllic countryside, moving on to describe his fighting experience from WWI, and closing with a look at the Finnish inspiration for the scholar\\'s self-invented languages of Elfish. In between are interviews with the cast of the films and some clips, by far the most from \\\\\"The Fellowship of the Ring\\\\\", but a few glimpses of Rohan riders (from \\\\\"The Two Towers\\\\\") are provided. Also, there are interviews with a range of the filmmakers.\", \"popularity\": 0.912, \"poster_path\": \"/knCJvfbr4LWNZBkTDlwRdM28PuR.jpg\", \"release_date\": \"2001-12-23\", \"title\": \"Beyond the Movie: The Fellowship of the Ring\", \"video\": false, \"vote_average\": 6.5, \"vote_count\": 18}]', name='search_movies', id='cd5fc1b2-8585-4afc-867a-25099484d744', tool_call_id='nkqs4f0y5')"
      ]
     },
     "execution_count": 5,
     "metadata": {},
     "output_type": "execute_result"
    }
   ],
   "source": [
    "response['messages'][-2]"
   ]
  },
  {
   "cell_type": "code",
   "execution_count": 6,
   "id": "b9d5b89a",
   "metadata": {},
   "outputs": [
    {
     "data": {
      "text/plain": [
       "'The first Lord of the Rings movie is \"The Lord of the Rings: The Fellowship of the Ring\" directed by Peter Jackson and released in 2001. The movie is based on the novel of the same name by J.R.R. Tolkien and follows the story of a hobbit named Frodo Baggins who inherits a mysterious ring and must leave his home to keep it from falling into the wrong hands. Along the way, he is joined by a fellowship of other characters who help him on his journey to destroy the ring in the fires of Mount Doom. The movie features a star-studded cast, including Elijah Wood, Viggo Mortensen, and Ian McKellen, and was well-received by critics and audiences alike.'"
      ]
     },
     "execution_count": 6,
     "metadata": {},
     "output_type": "execute_result"
    }
   ],
   "source": [
    "response['messages'][-1].content"
   ]
  }
 ],
 "metadata": {
  "kernelspec": {
   "display_name": "ai_agent",
   "language": "python",
   "name": "python3"
  },
  "language_info": {
   "codemirror_mode": {
    "name": "ipython",
    "version": 3
   },
   "file_extension": ".py",
   "mimetype": "text/x-python",
   "name": "python",
   "nbconvert_exporter": "python",
   "pygments_lexer": "ipython3",
   "version": "3.12.6"
  }
 },
 "nbformat": 4,
 "nbformat_minor": 5
}
