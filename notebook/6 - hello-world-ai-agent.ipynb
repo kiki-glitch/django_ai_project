{
 "cells": [
  {
   "cell_type": "code",
   "execution_count": 1,
   "id": "a85bcd10",
   "metadata": {},
   "outputs": [],
   "source": [
    "import setup\n",
    "setup.init()"
   ]
  },
  {
   "cell_type": "code",
   "execution_count": 2,
   "id": "6f2536d5",
   "metadata": {},
   "outputs": [],
   "source": [
    "from ai.agents import get_document_agent "
   ]
  },
  {
   "cell_type": "code",
   "execution_count": 3,
   "id": "03086ec8",
   "metadata": {},
   "outputs": [],
   "source": [
    "agent = get_document_agent()"
   ]
  },
  {
   "cell_type": "code",
   "execution_count": 6,
   "id": "8d07df39",
   "metadata": {},
   "outputs": [],
   "source": [
    "import uuid\n",
    "config = {\"configurable\":{\"user_id\":\"3\", \"thread_id\":uuid.uuid4()}}\n",
    "response = agent.invoke({\"messages\":\n",
    "              [\n",
    "                  {\"role\": \"user\", \"content\":\"what are my recent documents?\"}\n",
    "              ]\n",
    "            },\n",
    "            config\n",
    "        )"
   ]
  },
  {
   "cell_type": "code",
   "execution_count": 8,
   "id": "d029ed00",
   "metadata": {},
   "outputs": [
    {
     "name": "stdout",
     "output_type": "stream",
     "text": [
      "0 what are my recent documents?\n",
      "\n",
      "\n",
      "\n",
      "1 \n",
      "\n",
      "\n",
      "\n",
      "2 [{\"id\": 4, \"title\": \"Title\"}, {\"id\": 3, \"title\": \"Big Apple\"}]\n",
      "\n",
      "\n",
      "\n",
      "3 You have recently viewed documents with IDs 3 and 4.\n",
      "\n",
      "\n",
      "\n"
     ]
    }
   ],
   "source": [
    "for i, msg in enumerate(response['messages']):\n",
    "    print(i, msg.content)\n",
    "    print(\"\\n\\n\")"
   ]
  },
  {
   "cell_type": "code",
   "execution_count": 9,
   "id": "71e15b95",
   "metadata": {},
   "outputs": [
    {
     "data": {
      "text/plain": [
       "'You have recently viewed documents with IDs 3 and 4.'"
      ]
     },
     "execution_count": 9,
     "metadata": {},
     "output_type": "execute_result"
    }
   ],
   "source": [
    "response['messages'][-1].content"
   ]
  }
 ],
 "metadata": {
  "kernelspec": {
   "display_name": "ai_agent",
   "language": "python",
   "name": "python3"
  },
  "language_info": {
   "codemirror_mode": {
    "name": "ipython",
    "version": 3
   },
   "file_extension": ".py",
   "mimetype": "text/x-python",
   "name": "python",
   "nbconvert_exporter": "python",
   "pygments_lexer": "ipython3",
   "version": "3.12.6"
  }
 },
 "nbformat": 4,
 "nbformat_minor": 5
}
