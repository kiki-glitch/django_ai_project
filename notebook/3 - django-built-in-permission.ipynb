{
 "cells": [
  {
   "cell_type": "code",
   "execution_count": 1,
   "id": "39942777",
   "metadata": {},
   "outputs": [],
   "source": [
    "import setup\n",
    "setup.init()"
   ]
  },
  {
   "cell_type": "code",
   "execution_count": 2,
   "id": "bd9b2652",
   "metadata": {},
   "outputs": [
    {
     "data": {
      "text/plain": [
       "<QuerySet [<User: admin>, <User: staff>, <User: alex_dev>]>"
      ]
     },
     "execution_count": 2,
     "metadata": {},
     "output_type": "execute_result"
    }
   ],
   "source": [
    "from django.contrib.auth import get_user_model\n",
    "\n",
    "User = get_user_model()\n",
    "\n",
    "User.objects.all()"
   ]
  },
  {
   "cell_type": "code",
   "execution_count": 3,
   "id": "556a8899",
   "metadata": {},
   "outputs": [
    {
     "data": {
      "text/plain": [
       "<User: admin>"
      ]
     },
     "execution_count": 3,
     "metadata": {},
     "output_type": "execute_result"
    }
   ],
   "source": [
    "super_u = User.objects.filter(is_superuser=True).first()\n",
    "super_u"
   ]
  },
  {
   "cell_type": "code",
   "execution_count": 4,
   "id": "c3abbf78",
   "metadata": {},
   "outputs": [
    {
     "data": {
      "text/plain": [
       "<QuerySet []>"
      ]
     },
     "execution_count": 4,
     "metadata": {},
     "output_type": "execute_result"
    }
   ],
   "source": [
    "super_u.user_permissions.all()"
   ]
  },
  {
   "cell_type": "code",
   "execution_count": 5,
   "id": "d3088a8f",
   "metadata": {},
   "outputs": [
    {
     "data": {
      "text/plain": [
       "<User: alex_dev>"
      ]
     },
     "execution_count": 5,
     "metadata": {},
     "output_type": "execute_result"
    }
   ],
   "source": [
    "staff_u = User.objects.filter(is_superuser=False, is_staff=True).first()\n",
    "staff_u"
   ]
  },
  {
   "cell_type": "code",
   "execution_count": 6,
   "id": "65777cdb",
   "metadata": {},
   "outputs": [
    {
     "data": {
      "text/plain": [
       "<QuerySet []>"
      ]
     },
     "execution_count": 6,
     "metadata": {},
     "output_type": "execute_result"
    }
   ],
   "source": [
    "staff_u.user_permissions.all()"
   ]
  },
  {
   "cell_type": "code",
   "execution_count": 15,
   "id": "1caa1adc",
   "metadata": {},
   "outputs": [
    {
     "name": "stdout",
     "output_type": "stream",
     "text": [
      "view_logentry\n",
      "view_group\n",
      "view_permission\n",
      "view_user\n",
      "view_contenttype\n",
      "view_document\n",
      "view_session\n"
     ]
    }
   ],
   "source": [
    "from django.contrib.auth.models import Permission\n",
    "\n",
    "perm_qs = Permission.objects.filter(codename__icontains=\"VIEW\")\n",
    "for obj in perm_qs:\n",
    "    print(obj.codename)\n",
    "    # staff_u.user_permissions.add(obj)\n",
    "    staff_u.user_permissions.remove(obj)"
   ]
  },
  {
   "cell_type": "code",
   "execution_count": 20,
   "id": "521d9594",
   "metadata": {},
   "outputs": [
    {
     "data": {
      "text/plain": [
       "<QuerySet [<Permission: Documents | document | Can add document>, <Permission: Documents | document | Can change document>, <Permission: Documents | document | Can delete document>, <Permission: Documents | document | Can view document>]>"
      ]
     },
     "execution_count": 20,
     "metadata": {},
     "output_type": "execute_result"
    }
   ],
   "source": [
    "doc_qs = Permission.objects.filter(codename__endswith=\"document\")\n",
    "doc_qs\n",
    "# staff_u.user_permissions.set(perm_qs)"
   ]
  },
  {
   "cell_type": "code",
   "execution_count": 21,
   "id": "71b86b28",
   "metadata": {},
   "outputs": [
    {
     "data": {
      "text/plain": [
       "<QuerySet [<Permission: Administration | log entry | Can view log entry>, <Permission: Authentication and Authorization | group | Can view group>, <Permission: Authentication and Authorization | permission | Can view permission>, <Permission: Authentication and Authorization | user | Can view user>, <Permission: Content Types | content type | Can view content type>, <Permission: Documents | document | Can add document>, <Permission: Documents | document | Can change document>, <Permission: Documents | document | Can delete document>, <Permission: Documents | document | Can view document>, <Permission: Sessions | session | Can view session>]>"
      ]
     },
     "execution_count": 21,
     "metadata": {},
     "output_type": "execute_result"
    }
   ],
   "source": [
    "new_perms = doc_qs | perm_qs\n",
    "new_perms"
   ]
  },
  {
   "cell_type": "code",
   "execution_count": 22,
   "id": "138af518",
   "metadata": {},
   "outputs": [],
   "source": [
    "staff_u.user_permissions.set(new_perms)"
   ]
  },
  {
   "cell_type": "code",
   "execution_count": 23,
   "id": "d18d7883",
   "metadata": {},
   "outputs": [
    {
     "data": {
      "text/plain": [
       "<QuerySet [<Permission: Administration | log entry | Can view log entry>, <Permission: Authentication and Authorization | group | Can view group>, <Permission: Authentication and Authorization | permission | Can view permission>, <Permission: Authentication and Authorization | user | Can view user>, <Permission: Content Types | content type | Can view content type>, <Permission: Documents | document | Can add document>, <Permission: Documents | document | Can change document>, <Permission: Documents | document | Can view document>, <Permission: Sessions | session | Can view session>]>"
      ]
     },
     "execution_count": 23,
     "metadata": {},
     "output_type": "execute_result"
    }
   ],
   "source": [
    "new_perms = new_perms.exclude(codename__icontains='delete')\n",
    "new_perms"
   ]
  },
  {
   "cell_type": "code",
   "execution_count": 24,
   "id": "2a79c492",
   "metadata": {},
   "outputs": [],
   "source": [
    "staff_u.user_permissions.set(new_perms) "
   ]
  }
 ],
 "metadata": {
  "kernelspec": {
   "display_name": "ai_agent",
   "language": "python",
   "name": "python3"
  },
  "language_info": {
   "codemirror_mode": {
    "name": "ipython",
    "version": 3
   },
   "file_extension": ".py",
   "mimetype": "text/x-python",
   "name": "python",
   "nbconvert_exporter": "python",
   "pygments_lexer": "ipython3",
   "version": "3.12.6"
  }
 },
 "nbformat": 4,
 "nbformat_minor": 5
}
