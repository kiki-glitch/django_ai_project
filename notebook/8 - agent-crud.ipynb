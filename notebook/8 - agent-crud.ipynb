{
 "cells": [
  {
   "cell_type": "code",
   "execution_count": 1,
   "id": "a85bcd10",
   "metadata": {},
   "outputs": [],
   "source": [
    "import setup\n",
    "setup.init()"
   ]
  },
  {
   "cell_type": "code",
   "execution_count": 2,
   "id": "6f2536d5",
   "metadata": {},
   "outputs": [
    {
     "name": "stdout",
     "output_type": "stream",
     "text": [
      "{\"success\":true}\n"
     ]
    }
   ],
   "source": [
    "from langgraph.checkpoint.memory import InMemorySaver \n",
    "from ai.agents import get_document_agent\n"
   ]
  },
  {
   "cell_type": "code",
   "execution_count": 3,
   "id": "03086ec8",
   "metadata": {},
   "outputs": [],
   "source": [
    "import uuid\n",
    "# Initialize config\n",
    "config = {\n",
    "    \"configurable\": {\n",
    "        \"user_id\": \"3\",\n",
    "        \"thread_id\": str(uuid.uuid4()),\n",
    "        \"checkpoint_ns\": \"\"  # Optional: add empty checkpoint_ns to satisfy checkpointer\n",
    "    }\n",
    "}\n",
    "checkpointer = InMemorySaver()\n",
    "agent = get_document_agent(config=config,checkpointer=checkpointer)"
   ]
  },
  {
   "cell_type": "code",
   "execution_count": 4,
   "id": "494f6937",
   "metadata": {},
   "outputs": [
    {
     "name": "stdout",
     "output_type": "stream",
     "text": [
      "Error: Recursion limit of 25 reached without hitting a stop condition. You can increase the limit by setting the `recursion_limit` config key.\n",
      "For troubleshooting, visit: https://python.langchain.com/docs/troubleshooting/errors/GRAPH_RECURSION_LIMIT\n"
     ]
    }
   ],
   "source": [
    "import uuid\n",
    "import json\n",
    "from ai.agents import get_document_agent, make_list_documents_tool, make_search_documents_tool, make_get_document_tool, make_create_document_tool, make_update_document_tool, make_delete_document_tool\n",
    "\n",
    "# Initialize config\n",
    "config = {\n",
    "    \"configurable\": {\n",
    "        \"user_id\": \"3\",\n",
    "        \"thread_id\": str(uuid.uuid4())\n",
    "    }\n",
    "}\n",
    "\n",
    "# Create agent\n",
    "agent = get_document_agent(config=config)\n",
    "\n",
    "# Create tools dictionary for manual execution\n",
    "tools = {\n",
    "    \"list_documents\": make_list_documents_tool(config),\n",
    "    \"search_documents\": make_search_documents_tool(config),\n",
    "    \"get_document\": make_get_document_tool(config),\n",
    "    \"create_document\": make_create_document_tool(config),\n",
    "    \"update_document\": make_update_document_tool(config),\n",
    "    \"delete_document\": make_delete_document_tool(config)\n",
    "}\n",
    "\n",
    "# Combine messages and config into a single input dictionary\n",
    "input_data = {\n",
    "    \"messages\": [\n",
    "        {\"role\": \"user\", \"content\": \"I want you to create document about the Minions movie\"}\n",
    "    ],\n",
    "    \"configurable\": config[\"configurable\"]\n",
    "}\n",
    "\n",
    "# Manual agent invocation and tool execution\n",
    "try:\n",
    "    # Invoke the agent\n",
    "    output = agent.invoke(input_data)\n",
    "    print(f\"Raw agent output: {output}\")\n",
    "\n",
    "    # Parse the output (handle ChatGroq response)\n",
    "    if hasattr(output, 'content'):\n",
    "        output = output.content\n",
    "    if isinstance(output, dict):\n",
    "        output = json.dumps(output)  # Convert dict to JSON string if necessary\n",
    "    parsed_output = json.loads(output)\n",
    "\n",
    "    # Check if it's a tool call or final answer\n",
    "    action = parsed_output.get(\"action\")\n",
    "    if not action:\n",
    "        raise ValueError(\"Output must contain an 'action' key\")\n",
    "\n",
    "    if action == \"final_answer\":\n",
    "        print(f\"Final answer: {parsed_output['output']}\")\n",
    "    else:\n",
    "        # Execute the tool\n",
    "        tool_name = action\n",
    "        tool_input = parsed_output.get(\"action_input\", {})\n",
    "        if tool_name not in tools:\n",
    "            raise ValueError(f\"Unknown tool: {tool_name}\")\n",
    "        \n",
    "        tool = tools[tool_name]\n",
    "        tool_result = tool.invoke(tool_input)\n",
    "        print(f\"Tool result: {tool_result}\")\n",
    "\n",
    "        # Return the tool result as the final answer\n",
    "        final_answer = {\n",
    "            \"action\": \"final_answer\",\n",
    "            \"output\": tool_result\n",
    "        }\n",
    "        print(f\"Final answer: {final_answer['output']}\")\n",
    "\n",
    "except Exception as e:\n",
    "    print(f\"Error: {e}\")"
   ]
  },
  {
   "cell_type": "code",
   "execution_count": null,
   "id": "7d597cde",
   "metadata": {},
   "outputs": [],
   "source": [
    "response = agent.invoke(\n",
    "    {\n",
    "        \"messages\": [\n",
    "            {\"role\": \"user\", \"content\": \"Give me a summary of the Lord of the Rings movie.\"}\n",
    "        ]\n",
    "    },\n",
    "    config = {\n",
    "    \"configurable\": {\n",
    "        \"user_id\": \"3\",\n",
    "        \"thread_id\": str(uuid.uuid4()),\n",
    "        \"checkpoint_ns\": \"\"  # Optional: add empty checkpoint_ns to satisfy checkpointer\n",
    "    }\n",
    "}\n",
    ")\n",
    "response['messages'][-1].content"
   ]
  },
  {
   "cell_type": "code",
   "execution_count": null,
   "id": "4479c4b5",
   "metadata": {},
   "outputs": [],
   "source": [
    "response = agent.invoke(\n",
    "    {\"messages\": \n",
    "        [\n",
    "            {\"role\": \"user\", \"content\": \"I want you to create document about the Minions movie \"}\n",
    "        ]\n",
    "    },\n",
    "    config\n",
    ")\n",
    "\n",
    "response['messages'][-1].content"
   ]
  },
  {
   "cell_type": "code",
   "execution_count": null,
   "id": "d029ed00",
   "metadata": {},
   "outputs": [],
   "source": [
    "response['messages'][-1].content"
   ]
  },
  {
   "cell_type": "code",
   "execution_count": null,
   "id": "71e15b95",
   "metadata": {},
   "outputs": [],
   "source": [
    "response = agent.invoke(\n",
    "    {\"messages\": \n",
    "        [\n",
    "            {\"role\": \"user\", \"content\": \"Update the Minions document content to include cast as well and year of release.\"}\n",
    "        ]\n",
    "    },\n",
    "    config\n",
    ")\n"
   ]
  },
  {
   "cell_type": "code",
   "execution_count": null,
   "id": "55c42ad3",
   "metadata": {},
   "outputs": [],
   "source": [
    "response = agent.invoke(\n",
    "    {\"messages\": \n",
    "        [\n",
    "            {\"role\": \"user\", \"content\": \"Remove the Minions .\"}\n",
    "        ]\n",
    "    },\n",
    "    config\n",
    ")\n",
    "\n",
    "response['messages'][-1].content"
   ]
  },
  {
   "cell_type": "code",
   "execution_count": null,
   "id": "496f6c72",
   "metadata": {},
   "outputs": [],
   "source": [
    "response = agent.invoke({\"messages\":\n",
    "              [\n",
    "                  {\"role\": \"user\", \"content\":\"what are my recent documents saved?\"}\n",
    "              ]\n",
    "            },\n",
    "            config\n",
    "        )\n",
    "\n",
    "response['messages'][-1].content"
   ]
  }
 ],
 "metadata": {
  "kernelspec": {
   "display_name": "ai_agent",
   "language": "python",
   "name": "python3"
  },
  "language_info": {
   "codemirror_mode": {
    "name": "ipython",
    "version": 3
   },
   "file_extension": ".py",
   "mimetype": "text/x-python",
   "name": "python",
   "nbconvert_exporter": "python",
   "pygments_lexer": "ipython3",
   "version": "3.12.6"
  }
 },
 "nbformat": 4,
 "nbformat_minor": 5
}
