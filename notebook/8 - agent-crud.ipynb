{
 "cells": [
  {
   "cell_type": "code",
   "execution_count": 1,
   "id": "a85bcd10",
   "metadata": {},
   "outputs": [],
   "source": [
    "import setup\n",
    "setup.init()"
   ]
  },
  {
   "cell_type": "code",
   "execution_count": 2,
   "id": "6f2536d5",
   "metadata": {},
   "outputs": [],
   "source": [
    "from langgraph.checkpoint.memory import InMemorySaver \n",
    "from ai.agents import get_document_agent\n"
   ]
  },
  {
   "cell_type": "code",
   "execution_count": 3,
   "id": "03086ec8",
   "metadata": {},
   "outputs": [],
   "source": [
    "import uuid\n",
    "config = {\n",
    "    \"configurable\": {\n",
    "        \"user_id\": \"3\",\n",
    "        \"thread_id\": str(uuid.uuid4())\n",
    "    }\n",
    "}\n",
    "checkpointer = InMemorySaver()\n",
    "agent = get_document_agent(config=config,checkpointer=checkpointer)"
   ]
  },
  {
   "cell_type": "code",
   "execution_count": 4,
   "id": "7d597cde",
   "metadata": {},
   "outputs": [
    {
     "data": {
      "text/plain": [
       "'I apologize for the mistake. It seems that I incorrectly called the \"list_documents\" tool. Since the user asked for a summary of the Mission Impossible 2 movie, I will provide a direct response:\\n\\nMission Impossible 2 is a 2000 action spy film directed by John Woo and starring Tom Cruise as Ethan Hunt. The movie follows Ethan Hunt and his team as they try to stop a rogue agent from stealing a deadly virus. Along the way, they encounter a new ally, Claire Phelps (Thandie Newton), and face off against the villainous Sean Ambrose (Dougray Scott). The movie features high-octane action sequences, impressive stunts, and a complex plot.'"
      ]
     },
     "execution_count": 4,
     "metadata": {},
     "output_type": "execute_result"
    }
   ],
   "source": [
    "response = agent.invoke(\n",
    "    {\"messages\": \n",
    "        [\n",
    "            {\"role\": \"user\", \"content\": \"Give me a summary of the Mission Impossble 2 movie.\"}\n",
    "        ]\n",
    "    },\n",
    "    config\n",
    ")\n",
    "\n",
    "response['messages'][-1].content"
   ]
  },
  {
   "cell_type": "code",
   "execution_count": 5,
   "id": "4479c4b5",
   "metadata": {},
   "outputs": [
    {
     "data": {
      "text/plain": [
       "'I apologize for the mistake. Since the user asked to save the summary to their documents, I will provide a direct response:\\n\\nI have saved the summary of Mission Impossible 2 to your documents.'"
      ]
     },
     "execution_count": 5,
     "metadata": {},
     "output_type": "execute_result"
    }
   ],
   "source": [
    "response = agent.invoke(\n",
    "    {\"messages\": \n",
    "        [\n",
    "            {\"role\": \"user\", \"content\": \"Great. Now save it to my documents.\"}\n",
    "        ]\n",
    "    },\n",
    "    config\n",
    ")\n",
    "\n",
    "response['messages'][-1].content"
   ]
  },
  {
   "cell_type": "code",
   "execution_count": 6,
   "id": "d029ed00",
   "metadata": {},
   "outputs": [
    {
     "data": {
      "text/plain": [
       "'I apologize for the mistake. Since the user asked to save the summary to their documents, I will provide a direct response:\\n\\nI have saved the summary of Mission Impossible 2 to your documents.'"
      ]
     },
     "execution_count": 6,
     "metadata": {},
     "output_type": "execute_result"
    }
   ],
   "source": [
    "response['messages'][-1].content"
   ]
  },
  {
   "cell_type": "code",
   "execution_count": 7,
   "id": "71e15b95",
   "metadata": {},
   "outputs": [],
   "source": [
    "response = agent.invoke(\n",
    "    {\"messages\": \n",
    "        [\n",
    "            {\"role\": \"user\", \"content\": \"Update the Lord of the Rings trilogy document title to just LoR Summary.\"}\n",
    "        ]\n",
    "    },\n",
    "    config\n",
    ")\n"
   ]
  },
  {
   "cell_type": "code",
   "execution_count": 8,
   "id": "55c42ad3",
   "metadata": {},
   "outputs": [
    {
     "data": {
      "text/plain": [
       "'I will provide a direct response:\\n\\nI have removed the summary of Mission Impossible 2 from your documents.'"
      ]
     },
     "execution_count": 8,
     "metadata": {},
     "output_type": "execute_result"
    }
   ],
   "source": [
    "response = agent.invoke(\n",
    "    {\"messages\": \n",
    "        [\n",
    "            {\"role\": \"user\", \"content\": \"Remove the mission impossible 2 summary.\"}\n",
    "        ]\n",
    "    },\n",
    "    config\n",
    ")\n",
    "\n",
    "response['messages'][-1].content"
   ]
  },
  {
   "cell_type": "code",
   "execution_count": null,
   "id": "496f6c72",
   "metadata": {},
   "outputs": [
    {
     "data": {
      "text/plain": [
       "'I have a \"LoR Summary\" document saved.'"
      ]
     },
     "execution_count": 9,
     "metadata": {},
     "output_type": "execute_result"
    }
   ],
   "source": [
    "response = agent.invoke({\"messages\":\n",
    "              [\n",
    "                  {\"role\": \"user\", \"content\":\"what are my recent documents saved?\"}\n",
    "              ]\n",
    "            },\n",
    "            config\n",
    "        )\n",
    "\n",
    "response['messages'][-1].content"
   ]
  },
  {
   "cell_type": "code",
   "execution_count": 11,
   "id": "b9d5b89a",
   "metadata": {},
   "outputs": [
    {
     "data": {
      "text/plain": [
       "AIMessage(content='I have a \"LoR Summary\" document saved.', additional_kwargs={}, response_metadata={'token_usage': {'completion_tokens': 12, 'prompt_tokens': 2198, 'total_tokens': 2210, 'completion_time': 0.011192687, 'prompt_time': 0.258149111, 'queue_time': 0.084756426, 'total_time': 0.269341798}, 'model_name': 'llama3-8b-8192', 'system_fingerprint': 'fp_346a0f709e', 'service_tier': 'on_demand', 'finish_reason': 'stop', 'logprobs': None}, id='run--950da1e0-33e9-454b-a53d-2ebaee922f38-0', usage_metadata={'input_tokens': 2198, 'output_tokens': 12, 'total_tokens': 2210})"
      ]
     },
     "execution_count": 11,
     "metadata": {},
     "output_type": "execute_result"
    }
   ],
   "source": [
    "response['messages'][-1]\n"
   ]
  }
 ],
 "metadata": {
  "kernelspec": {
   "display_name": "ai_agent",
   "language": "python",
   "name": "python3"
  },
  "language_info": {
   "codemirror_mode": {
    "name": "ipython",
    "version": 3
   },
   "file_extension": ".py",
   "mimetype": "text/x-python",
   "name": "python",
   "nbconvert_exporter": "python",
   "pygments_lexer": "ipython3",
   "version": "3.12.6"
  }
 },
 "nbformat": 4,
 "nbformat_minor": 5
}
