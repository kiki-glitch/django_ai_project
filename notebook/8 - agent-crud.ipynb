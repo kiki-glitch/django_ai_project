{
 "cells": [
  {
   "cell_type": "code",
   "execution_count": 1,
   "id": "a85bcd10",
   "metadata": {},
   "outputs": [],
   "source": [
    "import setup\n",
    "setup.init()"
   ]
  },
  {
   "cell_type": "code",
   "execution_count": 2,
   "id": "6f2536d5",
   "metadata": {},
   "outputs": [
    {
     "name": "stdout",
     "output_type": "stream",
     "text": [
      "{\"success\":true}\n"
     ]
    }
   ],
   "source": [
    "from langgraph.checkpoint.memory import InMemorySaver \n",
    "from ai.agents import get_document_agent"
   ]
  },
  {
   "cell_type": "code",
   "execution_count": 3,
   "id": "03086ec8",
   "metadata": {},
   "outputs": [],
   "source": [
    "import uuid\n",
    "config = {\n",
    "    \"configurable\": {\n",
    "        \"user_id\": \"3\",\n",
    "        \"thread_id\": str(uuid.uuid4())\n",
    "    }\n",
    "}\n",
    "checkpointer = InMemorySaver()\n",
    "agent = get_document_agent(checkpointer=checkpointer)"
   ]
  },
  {
   "cell_type": "code",
   "execution_count": 4,
   "id": "7d597cde",
   "metadata": {},
   "outputs": [
    {
     "data": {
      "text/plain": [
       "'\"The Lord of the Rings\" is a film trilogy directed by Peter Jackson, based on the epic fantasy novel by J.R.R. Tolkien. The story is set in the fictional world of Middle-earth and follows the quest to destroy the One Ring, a powerful artifact created by the dark lord Sauron to control all other Rings of Power.\\n\\nThe trilogy consists of three films:\\n\\n1. **The Fellowship of the Ring**: The journey begins with the discovery of the One Ring by a young hobbit named Frodo Baggins. He is tasked with the responsibility of destroying the Ring in the fires of Mount Doom, where it was forged. To aid him, a diverse group is formed, known as the Fellowship of the Ring, which includes hobbits, humans, an elf, a dwarf, and a wizard. They face numerous challenges and adversaries, including the Ringwraiths, servants of Sauron.\\n\\n2. **The Two Towers**: The Fellowship is broken, and the members are scattered. Frodo and his loyal friend Sam continue their journey to Mordor, while Aragorn, Legolas, and Gimli pursue the captured hobbits Merry and Pippin. The film introduces new characters, such as Gollum, a creature twisted by the Ring\\'s power, who becomes their guide. The story also features the epic battle at Helm\\'s Deep, where the forces of good fight against Sauron\\'s army.\\n\\n3. **The Return of the King**: The final installment culminates in the climactic battle for Middle-earth. Frodo and Sam face immense challenges as they approach Mount Doom, while Aragorn steps into his role as the rightful king. The film showcases the final stand against Sauron’s forces, the power of friendship and sacrifice, and the ultimate fate of the Ring.\\n\\nThe trilogy is renowned for its groundbreaking visual effects, rich storytelling, and deep themes of friendship, courage, and the struggle between good and evil. It received critical acclaim and numerous awards, including multiple Academy Awards.'"
      ]
     },
     "execution_count": 4,
     "metadata": {},
     "output_type": "execute_result"
    }
   ],
   "source": [
    "response = agent.invoke(\n",
    "    {\"messages\": \n",
    "        [\n",
    "            {\"role\": \"user\", \"content\": \"Give me a summary of the Lord of Rings movie.\"}\n",
    "        ]\n",
    "    },\n",
    "    config\n",
    ")\n",
    "\n",
    "response['messages'][-1].content"
   ]
  },
  {
   "cell_type": "code",
   "execution_count": 5,
   "id": "4479c4b5",
   "metadata": {},
   "outputs": [
    {
     "data": {
      "text/plain": [
       "'I have created a document titled \"Minions Movie Summary.\" Here is the content:\\n\\n---\\n\\n**Minions Movie Summary**\\n\\n\"Minions\" is a 2015 animated film produced by Illumination Entertainment and a prequel to the \"Despicable Me\" franchise. The film focuses on the history of the Minions, small, yellow, and mischievous creatures who have existed since the dawn of time, serving various masters throughout history.\\n\\nThe story begins in the prehistoric era, where the Minions are shown to be loyal servants to the most villainous masters, including a T. rex and a pharaoh. However, their masters often meet unfortunate ends, leading the Minions to become increasingly isolated.\\n\\nIn search of a new master, three Minions named Kevin, Stuart, and Bob embark on a journey to find the most evil villain they can serve. Their adventure takes them to 1960s New York City, where they discover a villainous convention called Villain-Con. Here, they encounter Scarlet Overkill, the first female supervillain, who is voiced by Sandra Bullock. Scarlet is on a quest to steal the crown of Queen Elizabeth II and enlists the Minions to help her achieve her goal.\\n\\nAs the Minions assist Scarlet in her plans, they find themselves in a series of comedic and chaotic situations. However, their loyalty is tested when they realize that Scarlet\\'s intentions may not be as noble as they initially thought.\\n\\nThe film is filled with humor, slapstick comedy, and the Minions\\' signature gibberish language, making it appealing to audiences of all ages. It explores themes of friendship, loyalty, and the quest for belonging.\\n\\n\"Minions\" was a commercial success, grossing over a billion dollars worldwide, and it further solidified the Minions as beloved characters in popular culture.\\n\\n---\\n\\nIf you need any further modifications or additional documents, feel free to ask!'"
      ]
     },
     "execution_count": 5,
     "metadata": {},
     "output_type": "execute_result"
    }
   ],
   "source": [
    "response = agent.invoke(\n",
    "    {\"messages\": \n",
    "        [\n",
    "            {\"role\": \"user\", \"content\": \"I want you to create document about the Minions movie \"}\n",
    "        ]\n",
    "    },\n",
    "    config\n",
    ")\n",
    "\n",
    "response['messages'][-1].content"
   ]
  },
  {
   "cell_type": "code",
   "execution_count": 6,
   "id": "d029ed00",
   "metadata": {},
   "outputs": [
    {
     "data": {
      "text/plain": [
       "'I have created a document titled \"Minions Movie Summary.\" Here is the content:\\n\\n---\\n\\n**Minions Movie Summary**\\n\\n\"Minions\" is a 2015 animated film produced by Illumination Entertainment and a prequel to the \"Despicable Me\" franchise. The film focuses on the history of the Minions, small, yellow, and mischievous creatures who have existed since the dawn of time, serving various masters throughout history.\\n\\nThe story begins in the prehistoric era, where the Minions are shown to be loyal servants to the most villainous masters, including a T. rex and a pharaoh. However, their masters often meet unfortunate ends, leading the Minions to become increasingly isolated.\\n\\nIn search of a new master, three Minions named Kevin, Stuart, and Bob embark on a journey to find the most evil villain they can serve. Their adventure takes them to 1960s New York City, where they discover a villainous convention called Villain-Con. Here, they encounter Scarlet Overkill, the first female supervillain, who is voiced by Sandra Bullock. Scarlet is on a quest to steal the crown of Queen Elizabeth II and enlists the Minions to help her achieve her goal.\\n\\nAs the Minions assist Scarlet in her plans, they find themselves in a series of comedic and chaotic situations. However, their loyalty is tested when they realize that Scarlet\\'s intentions may not be as noble as they initially thought.\\n\\nThe film is filled with humor, slapstick comedy, and the Minions\\' signature gibberish language, making it appealing to audiences of all ages. It explores themes of friendship, loyalty, and the quest for belonging.\\n\\n\"Minions\" was a commercial success, grossing over a billion dollars worldwide, and it further solidified the Minions as beloved characters in popular culture.\\n\\n---\\n\\nIf you need any further modifications or additional documents, feel free to ask!'"
      ]
     },
     "execution_count": 6,
     "metadata": {},
     "output_type": "execute_result"
    }
   ],
   "source": [
    "response['messages'][-1].content"
   ]
  },
  {
   "cell_type": "code",
   "execution_count": 7,
   "id": "71e15b95",
   "metadata": {},
   "outputs": [],
   "source": [
    "response = agent.invoke(\n",
    "    {\"messages\": \n",
    "        [\n",
    "            {\"role\": \"user\", \"content\": \"Update the Minions document content to include cast as well and year of release.\"}\n",
    "        ]\n",
    "    },\n",
    "    config\n",
    ")\n"
   ]
  },
  {
   "cell_type": "code",
   "execution_count": 8,
   "id": "55c42ad3",
   "metadata": {},
   "outputs": [
    {
     "data": {
      "text/plain": [
       "'The document has been successfully updated to remove references to the Minions. If you need any further changes or additional information, feel free to ask!'"
      ]
     },
     "execution_count": 8,
     "metadata": {},
     "output_type": "execute_result"
    }
   ],
   "source": [
    "response = agent.invoke(\n",
    "    {\"messages\": \n",
    "        [\n",
    "            {\"role\": \"user\", \"content\": \"Remove the Minions .\"}\n",
    "        ]\n",
    "    },\n",
    "    config\n",
    ")\n",
    "\n",
    "response['messages'][-1].content"
   ]
  },
  {
   "cell_type": "code",
   "execution_count": 9,
   "id": "496f6c72",
   "metadata": {},
   "outputs": [
    {
     "data": {
      "text/plain": [
       "'Here are your most recent documents:\\n\\n1. **Minions Movie Summary** (ID: 9)\\n2. **Minions Movie Summary** (ID: 7)\\n3. **Title** (ID: 6)\\n4. **Summary of Lord of the Rings Trilogy** (ID: 5)\\n5. **Title** (ID: 4)\\n\\nIf you need more information about any of these documents or want to perform any actions, just let me know!'"
      ]
     },
     "execution_count": 9,
     "metadata": {},
     "output_type": "execute_result"
    }
   ],
   "source": [
    "response = agent.invoke({\"messages\":\n",
    "              [\n",
    "                  {\"role\": \"user\", \"content\":\"what are my recent documents saved?\"}\n",
    "              ]\n",
    "            },\n",
    "            config\n",
    "        )\n",
    "\n",
    "response['messages'][-1].content"
   ]
  }
 ],
 "metadata": {
  "kernelspec": {
   "display_name": "ai_agent",
   "language": "python",
   "name": "python3"
  },
  "language_info": {
   "codemirror_mode": {
    "name": "ipython",
    "version": 3
   },
   "file_extension": ".py",
   "mimetype": "text/x-python",
   "name": "python",
   "nbconvert_exporter": "python",
   "pygments_lexer": "ipython3",
   "version": "3.12.6"
  }
 },
 "nbformat": 4,
 "nbformat_minor": 5
}
